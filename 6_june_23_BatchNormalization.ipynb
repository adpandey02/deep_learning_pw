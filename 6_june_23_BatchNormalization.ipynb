{
 "cells": [
  {
   "cell_type": "code",
   "execution_count": null,
   "id": "c09474f0-32e0-43dd-8612-e03cdfe88bd7",
   "metadata": {},
   "outputs": [],
   "source": [
    "'''\n",
    "Q1: Explain the concept of batch normalization in the context of Artificial Neural Networks.\n",
    "Batch normalization is a technique used in deep learning to address the issue of internal covariate shift. Covariate shift refers to\n",
    "the change in the distribution of network activations during training, which makes it difficult for the network to learn effectively.\n",
    "Batch normalization normalizes the activations of each layer by subtracting the mean and dividing by the standard deviation of the batch\n",
    "It introduces additional learnable parameters, which allow the network to adapt and scale the normalized values. This normalization\n",
    "step helps to keep the activations of each layer within a reasonable range, ensuring stable training.\n",
    "\n",
    "Q2: Describe the benefits of using batch normalization during training.\n",
    "The benefits of using batch normalization during training are as follows:\n",
    "a) Improved Gradient Flow: Batch normalization reduces the internal covariate shift by normalizing the activations. This results in improved\n",
    "gradient flow through the network, enabling faster convergence and improved training performance.\n",
    "b) Regularization Effect: Batch normalization introduces some noise in the network during training by normalizing the batch. This acts as \n",
    "a form of regularization, which can help in reducing overfitting and improving generalization.\n",
    "c) Increased Learning Rate: Since batch normalization reduces the internal covariate shift and stabilizes the training, it allows the use\n",
    "of higher learning rates. This can lead to faster convergence and potentially better results.\n",
    "d) Reduced Sensitivity to Initialization: Batch normalization reduces the dependence of the network on the initialization of parameters\n",
    "It mitigates the issue of vanishing or exploding gradients, making the network less sensitive to the choice of initial weights.\n",
    "\n",
    "Q3: Discuss the working principle of batch normalization, including the normalization step and the learnable parameters.\n",
    "The working principle of batch normalization involves two main steps: normalization and learnable parameters.\n",
    "Normalization Step:\n",
    "Given a mini-batch of inputs with shape (batch_size, features), the normalization step in batch normalization can be summarized as follows:\n",
    "Compute the mean (μ) and standard deviation (σ) of each feature over the mini-batch.\n",
    "Normalize each feature by subtracting the mean and dividing by the standard deviation.\n",
    "Scale and shift the normalized features using learnable parameters: γ (scale) and β (shift).\n",
    "The normalized feature x_hat for a specific feature in the mini-batch can be calculated as:\n",
    "x_hat = (x - μ) / σ\n",
    "where x is the original feature value.\n",
    "Learnable Parameters:\n",
    "Batch normalization introduces two learnable parameters per feature: γ (scale) and β (shift). These parameters are applied after the\n",
    "normalization step to scale and shift the normalized features, respectively. They allow the network to learn the optimal scaling and\n",
    "shifting of the features, which is important for the representational power of the network.\n",
    "The output of the batch normalization layer for a specific feature can be calculated as:\n",
    "y = γ * x_hat + β\n",
    "where y is the output feature, γ is the scale parameter, β is the shift parameter, and x_hat is the normalized feature.'''"
   ]
  },
  {
   "cell_type": "markdown",
   "id": "e479d108-a800-4bf3-b5f3-4dd843dc3f35",
   "metadata": {},
   "source": [
    "# Implementation:"
   ]
  },
  {
   "cell_type": "markdown",
   "id": "958558f7-625c-45a8-9930-de5fcf9f15ba",
   "metadata": {},
   "source": [
    "### install tensorflow"
   ]
  },
  {
   "cell_type": "code",
   "execution_count": 2,
   "id": "94f62945-4c32-4ee0-a8b5-e9eaa114f0c9",
   "metadata": {
    "collapsed": true,
    "jupyter": {
     "outputs_hidden": true
    },
    "tags": []
   },
   "outputs": [
    {
     "name": "stdout",
     "output_type": "stream",
     "text": [
      "Collecting tensorflow\n",
      "  Downloading tensorflow-2.12.1-cp310-cp310-manylinux_2_17_x86_64.manylinux2014_x86_64.whl (585.9 MB)\n",
      "\u001b[2K     \u001b[90m━━━━━━━━━━━━━━━━━━━━━━━━━━━━━━━━━━━━━━━\u001b[0m \u001b[32m585.9/585.9 MB\u001b[0m \u001b[31m2.2 MB/s\u001b[0m eta \u001b[36m0:00:00\u001b[0m00:01\u001b[0m00:01\u001b[0m\n",
      "\u001b[?25hRequirement already satisfied: numpy<=1.24.3,>=1.22 in /opt/conda/lib/python3.10/site-packages (from tensorflow) (1.23.5)\n",
      "Collecting keras<2.13,>=2.12.0\n",
      "  Downloading keras-2.12.0-py2.py3-none-any.whl (1.7 MB)\n",
      "\u001b[2K     \u001b[90m━━━━━━━━━━━━━━━━━━━━━━━━━━━━━━━━━━━━━━━━\u001b[0m \u001b[32m1.7/1.7 MB\u001b[0m \u001b[31m76.2 MB/s\u001b[0m eta \u001b[36m0:00:00\u001b[0m\n",
      "\u001b[?25hCollecting gast<=0.4.0,>=0.2.1\n",
      "  Downloading gast-0.4.0-py3-none-any.whl (9.8 kB)\n",
      "Requirement already satisfied: six>=1.12.0 in /opt/conda/lib/python3.10/site-packages (from tensorflow) (1.16.0)\n",
      "Requirement already satisfied: setuptools in /opt/conda/lib/python3.10/site-packages (from tensorflow) (65.5.1)\n",
      "Requirement already satisfied: protobuf!=4.21.0,!=4.21.1,!=4.21.2,!=4.21.3,!=4.21.4,!=4.21.5,<5.0.0dev,>=3.20.3 in /opt/conda/lib/python3.10/site-packages (from tensorflow) (4.21.11)\n",
      "Requirement already satisfied: h5py>=2.9.0 in /opt/conda/lib/python3.10/site-packages (from tensorflow) (3.7.0)\n",
      "Collecting flatbuffers>=2.0\n",
      "  Downloading flatbuffers-23.5.26-py2.py3-none-any.whl (26 kB)\n",
      "Collecting jax>=0.3.15\n",
      "  Downloading jax-0.4.13.tar.gz (1.3 MB)\n",
      "\u001b[2K     \u001b[90m━━━━━━━━━━━━━━━━━━━━━━━━━━━━━━━━━━━━━━━━\u001b[0m \u001b[32m1.3/1.3 MB\u001b[0m \u001b[31m73.5 MB/s\u001b[0m eta \u001b[36m0:00:00\u001b[0m\n",
      "\u001b[?25h  Installing build dependencies ... \u001b[?25ldone\n",
      "\u001b[?25h  Getting requirements to build wheel ... \u001b[?25ldone\n",
      "\u001b[?25h  Preparing metadata (pyproject.toml) ... \u001b[?25ldone\n",
      "\u001b[?25hCollecting astunparse>=1.6.0\n",
      "  Downloading astunparse-1.6.3-py2.py3-none-any.whl (12 kB)\n",
      "Collecting opt-einsum>=2.3.2\n",
      "  Downloading opt_einsum-3.3.0-py3-none-any.whl (65 kB)\n",
      "\u001b[2K     \u001b[90m━━━━━━━━━━━━━━━━━━━━━━━━━━━━━━━━━━━━━━━━\u001b[0m \u001b[32m65.5/65.5 kB\u001b[0m \u001b[31m13.0 MB/s\u001b[0m eta \u001b[36m0:00:00\u001b[0m\n",
      "\u001b[?25hCollecting google-pasta>=0.1.1\n",
      "  Downloading google_pasta-0.2.0-py3-none-any.whl (57 kB)\n",
      "\u001b[2K     \u001b[90m━━━━━━━━━━━━━━━━━━━━━━━━━━━━━━━━━━━━━━━━\u001b[0m \u001b[32m57.5/57.5 kB\u001b[0m \u001b[31m11.5 MB/s\u001b[0m eta \u001b[36m0:00:00\u001b[0m\n",
      "\u001b[?25hCollecting tensorflow-estimator<2.13,>=2.12.0\n",
      "  Downloading tensorflow_estimator-2.12.0-py2.py3-none-any.whl (440 kB)\n",
      "\u001b[2K     \u001b[90m━━━━━━━━━━━━━━━━━━━━━━━━━━━━━━━━━━━━━━\u001b[0m \u001b[32m440.7/440.7 kB\u001b[0m \u001b[31m47.8 MB/s\u001b[0m eta \u001b[36m0:00:00\u001b[0m\n",
      "\u001b[?25hCollecting wrapt<1.15,>=1.11.0\n",
      "  Downloading wrapt-1.14.1-cp310-cp310-manylinux_2_5_x86_64.manylinux1_x86_64.manylinux_2_17_x86_64.manylinux2014_x86_64.whl (77 kB)\n",
      "\u001b[2K     \u001b[90m━━━━━━━━━━━━━━━━━━━━━━━━━━━━━━━━━━━━━━━━\u001b[0m \u001b[32m77.9/77.9 kB\u001b[0m \u001b[31m14.6 MB/s\u001b[0m eta \u001b[36m0:00:00\u001b[0m\n",
      "\u001b[?25hCollecting grpcio<2.0,>=1.24.3\n",
      "  Downloading grpcio-1.56.0-cp310-cp310-manylinux_2_17_x86_64.manylinux2014_x86_64.whl (5.2 MB)\n",
      "\u001b[2K     \u001b[90m━━━━━━━━━━━━━━━━━━━━━━━━━━━━━━━━━━━━━━━━\u001b[0m \u001b[32m5.2/5.2 MB\u001b[0m \u001b[31m78.1 MB/s\u001b[0m eta \u001b[36m0:00:00\u001b[0mta \u001b[36m0:00:01\u001b[0m\n",
      "\u001b[?25hRequirement already satisfied: packaging in /opt/conda/lib/python3.10/site-packages (from tensorflow) (22.0)\n",
      "Collecting absl-py>=1.0.0\n",
      "  Downloading absl_py-1.4.0-py3-none-any.whl (126 kB)\n",
      "\u001b[2K     \u001b[90m━━━━━━━━━━━━━━━━━━━━━━━━━━━━━━━━━━━━━━\u001b[0m \u001b[32m126.5/126.5 kB\u001b[0m \u001b[31m20.8 MB/s\u001b[0m eta \u001b[36m0:00:00\u001b[0m\n",
      "\u001b[?25hCollecting tensorboard<2.13,>=2.12\n",
      "  Downloading tensorboard-2.12.3-py3-none-any.whl (5.6 MB)\n",
      "\u001b[2K     \u001b[90m━━━━━━━━━━━━━━━━━━━━━━━━━━━━━━━━━━━━━━━━\u001b[0m \u001b[32m5.6/5.6 MB\u001b[0m \u001b[31m80.2 MB/s\u001b[0m eta \u001b[36m0:00:00\u001b[0m:00:01\u001b[0m00:01\u001b[0m\n",
      "\u001b[?25hCollecting tensorflow-io-gcs-filesystem>=0.23.1\n",
      "  Downloading tensorflow_io_gcs_filesystem-0.32.0-cp310-cp310-manylinux_2_12_x86_64.manylinux2010_x86_64.whl (2.4 MB)\n",
      "\u001b[2K     \u001b[90m━━━━━━━━━━━━━━━━━━━━━━━━━━━━━━━━━━━━━━━━\u001b[0m \u001b[32m2.4/2.4 MB\u001b[0m \u001b[31m62.0 MB/s\u001b[0m eta \u001b[36m0:00:00\u001b[0m00:01\u001b[0m\n",
      "\u001b[?25hCollecting libclang>=13.0.0\n",
      "  Downloading libclang-16.0.0-py2.py3-none-manylinux2010_x86_64.whl (22.9 MB)\n",
      "\u001b[2K     \u001b[90m━━━━━━━━━━━━━━━━━━━━━━━━━━━━━━━━━━━━━━━━\u001b[0m \u001b[32m22.9/22.9 MB\u001b[0m \u001b[31m58.4 MB/s\u001b[0m eta \u001b[36m0:00:00\u001b[0m00:01\u001b[0m00:01\u001b[0m\n",
      "\u001b[?25hCollecting termcolor>=1.1.0\n",
      "  Downloading termcolor-2.3.0-py3-none-any.whl (6.9 kB)\n",
      "Requirement already satisfied: typing-extensions<4.6.0,>=3.6.6 in /opt/conda/lib/python3.10/site-packages (from tensorflow) (4.4.0)\n",
      "Requirement already satisfied: wheel<1.0,>=0.23.0 in /opt/conda/lib/python3.10/site-packages (from astunparse>=1.6.0->tensorflow) (0.38.4)\n",
      "Requirement already satisfied: scipy>=1.7 in /opt/conda/lib/python3.10/site-packages (from jax>=0.3.15->tensorflow) (1.9.3)\n",
      "Collecting ml-dtypes>=0.1.0\n",
      "  Downloading ml_dtypes-0.2.0-cp310-cp310-manylinux_2_17_x86_64.manylinux2014_x86_64.whl (1.0 MB)\n",
      "\u001b[2K     \u001b[90m━━━━━━━━━━━━━━━━━━━━━━━━━━━━━━━━━━━━━━━━\u001b[0m \u001b[32m1.0/1.0 MB\u001b[0m \u001b[31m67.8 MB/s\u001b[0m eta \u001b[36m0:00:00\u001b[0m\n",
      "\u001b[?25hCollecting werkzeug>=1.0.1\n",
      "  Downloading Werkzeug-2.3.6-py3-none-any.whl (242 kB)\n",
      "\u001b[2K     \u001b[90m━━━━━━━━━━━━━━━━━━━━━━━━━━━━━━━━━━━━━━\u001b[0m \u001b[32m242.5/242.5 kB\u001b[0m \u001b[31m33.4 MB/s\u001b[0m eta \u001b[36m0:00:00\u001b[0m\n",
      "\u001b[?25hCollecting tensorboard-data-server<0.8.0,>=0.7.0\n",
      "  Downloading tensorboard_data_server-0.7.1-py3-none-manylinux2014_x86_64.whl (6.6 MB)\n",
      "\u001b[2K     \u001b[90m━━━━━━━━━━━━━━━━━━━━━━━━━━━━━━━━━━━━━━━━\u001b[0m \u001b[32m6.6/6.6 MB\u001b[0m \u001b[31m72.9 MB/s\u001b[0m eta \u001b[36m0:00:00\u001b[0m:00:01\u001b[0m00:01\u001b[0m\n",
      "\u001b[?25hCollecting google-auth<3,>=1.6.3\n",
      "  Downloading google_auth-2.21.0-py2.py3-none-any.whl (182 kB)\n",
      "\u001b[2K     \u001b[90m━━━━━━━━━━━━━━━━━━━━━━━━━━━━━━━━━━━━━━\u001b[0m \u001b[32m182.1/182.1 kB\u001b[0m \u001b[31m27.5 MB/s\u001b[0m eta \u001b[36m0:00:00\u001b[0m\n",
      "\u001b[?25hCollecting google-auth-oauthlib<1.1,>=0.5\n",
      "  Downloading google_auth_oauthlib-1.0.0-py2.py3-none-any.whl (18 kB)\n",
      "Requirement already satisfied: requests<3,>=2.21.0 in /opt/conda/lib/python3.10/site-packages (from tensorboard<2.13,>=2.12->tensorflow) (2.28.1)\n",
      "Collecting markdown>=2.6.8\n",
      "  Downloading Markdown-3.4.3-py3-none-any.whl (93 kB)\n",
      "\u001b[2K     \u001b[90m━━━━━━━━━━━━━━━━━━━━━━━━━━━━━━━━━━━━━━━━\u001b[0m \u001b[32m93.9/93.9 kB\u001b[0m \u001b[31m14.9 MB/s\u001b[0m eta \u001b[36m0:00:00\u001b[0m\n",
      "\u001b[?25hCollecting cachetools<6.0,>=2.0.0\n",
      "  Downloading cachetools-5.3.1-py3-none-any.whl (9.3 kB)\n",
      "Collecting rsa<5,>=3.1.4\n",
      "  Downloading rsa-4.9-py3-none-any.whl (34 kB)\n",
      "Requirement already satisfied: urllib3<2.0 in /opt/conda/lib/python3.10/site-packages (from google-auth<3,>=1.6.3->tensorboard<2.13,>=2.12->tensorflow) (1.26.13)\n",
      "Collecting pyasn1-modules>=0.2.1\n",
      "  Downloading pyasn1_modules-0.3.0-py2.py3-none-any.whl (181 kB)\n",
      "\u001b[2K     \u001b[90m━━━━━━━━━━━━━━━━━━━━━━━━━━━━━━━━━━━━━━\u001b[0m \u001b[32m181.3/181.3 kB\u001b[0m \u001b[31m26.8 MB/s\u001b[0m eta \u001b[36m0:00:00\u001b[0m\n",
      "\u001b[?25hCollecting requests-oauthlib>=0.7.0\n",
      "  Downloading requests_oauthlib-1.3.1-py2.py3-none-any.whl (23 kB)\n",
      "Requirement already satisfied: certifi>=2017.4.17 in /opt/conda/lib/python3.10/site-packages (from requests<3,>=2.21.0->tensorboard<2.13,>=2.12->tensorflow) (2022.12.7)\n",
      "Requirement already satisfied: idna<4,>=2.5 in /opt/conda/lib/python3.10/site-packages (from requests<3,>=2.21.0->tensorboard<2.13,>=2.12->tensorflow) (3.4)\n",
      "Requirement already satisfied: charset-normalizer<3,>=2 in /opt/conda/lib/python3.10/site-packages (from requests<3,>=2.21.0->tensorboard<2.13,>=2.12->tensorflow) (2.1.1)\n",
      "Requirement already satisfied: MarkupSafe>=2.1.1 in /opt/conda/lib/python3.10/site-packages (from werkzeug>=1.0.1->tensorboard<2.13,>=2.12->tensorflow) (2.1.1)\n",
      "Collecting pyasn1<0.6.0,>=0.4.6\n",
      "  Downloading pyasn1-0.5.0-py2.py3-none-any.whl (83 kB)\n",
      "\u001b[2K     \u001b[90m━━━━━━━━━━━━━━━━━━━━━━━━━━━━━━━━━━━━━━━━\u001b[0m \u001b[32m83.9/83.9 kB\u001b[0m \u001b[31m16.1 MB/s\u001b[0m eta \u001b[36m0:00:00\u001b[0m\n",
      "\u001b[?25hRequirement already satisfied: oauthlib>=3.0.0 in /opt/conda/lib/python3.10/site-packages (from requests-oauthlib>=0.7.0->google-auth-oauthlib<1.1,>=0.5->tensorboard<2.13,>=2.12->tensorflow) (3.2.2)\n",
      "Building wheels for collected packages: jax\n",
      "  Building wheel for jax (pyproject.toml) ... \u001b[?25ldone\n",
      "\u001b[?25h  Created wheel for jax: filename=jax-0.4.13-py3-none-any.whl size=1518707 sha256=f121e91d78bac0013e4061307a4c0f8399df4e91bbc2813b927709d217b5a1ea\n",
      "  Stored in directory: /home/jovyan/.cache/pip/wheels/4c/a3/e7/ea156aff3754a8f833f1b0c9587dec0bcfc9c551c439c9dcc7\n",
      "Successfully built jax\n",
      "Installing collected packages: libclang, flatbuffers, wrapt, werkzeug, termcolor, tensorflow-io-gcs-filesystem, tensorflow-estimator, tensorboard-data-server, pyasn1, opt-einsum, ml-dtypes, markdown, keras, grpcio, google-pasta, gast, cachetools, astunparse, absl-py, rsa, requests-oauthlib, pyasn1-modules, jax, google-auth, google-auth-oauthlib, tensorboard, tensorflow\n",
      "Successfully installed absl-py-1.4.0 astunparse-1.6.3 cachetools-5.3.1 flatbuffers-23.5.26 gast-0.4.0 google-auth-2.21.0 google-auth-oauthlib-1.0.0 google-pasta-0.2.0 grpcio-1.56.0 jax-0.4.13 keras-2.12.0 libclang-16.0.0 markdown-3.4.3 ml-dtypes-0.2.0 opt-einsum-3.3.0 pyasn1-0.5.0 pyasn1-modules-0.3.0 requests-oauthlib-1.3.1 rsa-4.9 tensorboard-2.12.3 tensorboard-data-server-0.7.1 tensorflow-2.12.1 tensorflow-estimator-2.12.0 tensorflow-io-gcs-filesystem-0.32.0 termcolor-2.3.0 werkzeug-2.3.6 wrapt-1.14.1\n",
      "Note: you may need to restart the kernel to use updated packages.\n"
     ]
    }
   ],
   "source": [
    "pip install tensorflow"
   ]
  },
  {
   "cell_type": "code",
   "execution_count": 3,
   "id": "d6039f84-ed28-4f12-99e7-ccd0bf37251b",
   "metadata": {},
   "outputs": [
    {
     "name": "stderr",
     "output_type": "stream",
     "text": [
      "2023-07-05 17:17:20.860556: I tensorflow/tsl/cuda/cudart_stub.cc:28] Could not find cuda drivers on your machine, GPU will not be used.\n",
      "2023-07-05 17:17:20.930196: I tensorflow/tsl/cuda/cudart_stub.cc:28] Could not find cuda drivers on your machine, GPU will not be used.\n",
      "2023-07-05 17:17:20.931454: I tensorflow/core/platform/cpu_feature_guard.cc:182] This TensorFlow binary is optimized to use available CPU instructions in performance-critical operations.\n",
      "To enable the following instructions: AVX2 FMA, in other operations, rebuild TensorFlow with the appropriate compiler flags.\n",
      "2023-07-05 17:17:22.090277: W tensorflow/compiler/tf2tensorrt/utils/py_utils.cc:38] TF-TRT Warning: Could not find TensorRT\n"
     ]
    }
   ],
   "source": [
    "import tensorflow as tf\n",
    "from tensorflow.keras.datasets import mnist\n",
    "from tensorflow.keras.models import Sequential\n",
    "from tensorflow.keras.layers import Dense\n",
    "from tensorflow.keras.layers import BatchNormalization"
   ]
  },
  {
   "cell_type": "markdown",
   "id": "2d939c7c-0e34-4ac8-9feb-51ce7449936a",
   "metadata": {},
   "source": [
    "### 1.Load and preprocess the MNIST dataset:"
   ]
  },
  {
   "cell_type": "code",
   "execution_count": 4,
   "id": "4b94c812-660e-4be2-a600-c70228916b7c",
   "metadata": {},
   "outputs": [
    {
     "name": "stdout",
     "output_type": "stream",
     "text": [
      "Downloading data from https://storage.googleapis.com/tensorflow/tf-keras-datasets/mnist.npz\n",
      "11490434/11490434 [==============================] - 2s 0us/step\n"
     ]
    }
   ],
   "source": [
    "# Load the MNIST dataset\n",
    "(x_train, y_train), (x_test, y_test) = mnist.load_data()\n",
    "\n",
    "# Normalize the pixel values to the range [0, 1]\n",
    "x_train = x_train / 255.0\n",
    "x_test = x_test / 255.0\n",
    "\n",
    "# Flatten the images\n",
    "x_train = x_train.reshape((-1, 784))\n",
    "x_test = x_test.reshape((-1, 784))"
   ]
  },
  {
   "cell_type": "markdown",
   "id": "aeaba1eb-ca81-4add-9303-f3ef397e1442",
   "metadata": {},
   "source": [
    "### 2.Implement a simple neural network without batch normalization:"
   ]
  },
  {
   "cell_type": "code",
   "execution_count": 8,
   "id": "c7846c07-03b6-40af-935a-b765088ee482",
   "metadata": {},
   "outputs": [
    {
     "name": "stdout",
     "output_type": "stream",
     "text": [
      "Epoch 1/3\n",
      "1875/1875 [==============================] - 5s 2ms/step - loss: 0.2977 - accuracy: 0.9134 - val_loss: 0.1732 - val_accuracy: 0.9497\n",
      "Epoch 2/3\n",
      "1875/1875 [==============================] - 4s 2ms/step - loss: 0.1399 - accuracy: 0.9584 - val_loss: 0.1215 - val_accuracy: 0.9635\n",
      "Epoch 3/3\n",
      "1875/1875 [==============================] - 4s 2ms/step - loss: 0.1022 - accuracy: 0.9688 - val_loss: 0.1123 - val_accuracy: 0.9669\n"
     ]
    },
    {
     "data": {
      "text/plain": [
       "<keras.callbacks.History at 0x7f122cdbec50>"
      ]
     },
     "execution_count": 8,
     "metadata": {},
     "output_type": "execute_result"
    }
   ],
   "source": [
    "# Define the model\n",
    "model = Sequential([\n",
    "    Dense(64, activation='relu', input_shape=(784,)),\n",
    "    Dense(32, activation='relu'),\n",
    "    Dense(10, activation='softmax')\n",
    "])\n",
    "\n",
    "# Compile the model\n",
    "model.compile(optimizer='adam',\n",
    "              loss='sparse_categorical_crossentropy',\n",
    "              metrics=['accuracy'])\n",
    "\n",
    "# Train the model\n",
    "model.fit(x_train, y_train, epochs=3, batch_size=32, validation_data=(x_test, y_test))\n"
   ]
  },
  {
   "cell_type": "markdown",
   "id": "cf4376e4-4a0e-45bb-9ac5-773d5067179d",
   "metadata": {},
   "source": [
    "### 3.Implement batch normalization layers in the neural network and train the model again:"
   ]
  },
  {
   "cell_type": "code",
   "execution_count": 9,
   "id": "6c93b8ae-77b0-4c97-a189-10bcd023056e",
   "metadata": {},
   "outputs": [
    {
     "name": "stdout",
     "output_type": "stream",
     "text": [
      "Epoch 1/3\n",
      "1875/1875 [==============================] - 6s 3ms/step - loss: 0.3026 - accuracy: 0.9127 - val_loss: 0.1410 - val_accuracy: 0.9569\n",
      "Epoch 2/3\n",
      "1875/1875 [==============================] - 5s 3ms/step - loss: 0.1442 - accuracy: 0.9560 - val_loss: 0.1176 - val_accuracy: 0.9638\n",
      "Epoch 3/3\n",
      "1875/1875 [==============================] - 5s 3ms/step - loss: 0.1175 - accuracy: 0.9637 - val_loss: 0.1049 - val_accuracy: 0.9676\n"
     ]
    },
    {
     "data": {
      "text/plain": [
       "<keras.callbacks.History at 0x7f0f804a2080>"
      ]
     },
     "execution_count": 9,
     "metadata": {},
     "output_type": "execute_result"
    }
   ],
   "source": [
    "# Define the model with batch normalization\n",
    "model_with_bn = Sequential([\n",
    "    Dense(64, activation='relu', input_shape=(784,)),\n",
    "    tf.keras.layers.BatchNormalization(),  # Batch normalization layer\n",
    "    Dense(32, activation='relu'),\n",
    "    tf.keras.layers.BatchNormalization(),  # Batch normalization layer\n",
    "    Dense(10, activation='softmax')\n",
    "])\n",
    "\n",
    "# Compile the model\n",
    "model_with_bn.compile(optimizer='adam',\n",
    "                      loss='sparse_categorical_crossentropy',\n",
    "                      metrics=['accuracy'])\n",
    "\n",
    "# Train the model\n",
    "model_with_bn.fit(x_train, y_train, epochs=3, batch_size=32, validation_data=(x_test, y_test))\n"
   ]
  },
  {
   "cell_type": "markdown",
   "id": "47ad490d-882a-422f-886e-aac979b90ac2",
   "metadata": {},
   "source": [
    "### 4.Compare the training and validation performance between the models with and without batch normalization"
   ]
  },
  {
   "cell_type": "code",
   "execution_count": 10,
   "id": "79a57fb3-2e8a-4f7b-9f9b-9d7717c9b1b4",
   "metadata": {},
   "outputs": [
    {
     "name": "stdout",
     "output_type": "stream",
     "text": [
      "313/313 [==============================] - 0s 1ms/step - loss: 0.1123 - accuracy: 0.9669\n",
      "Model without Batch Normalization - Test Accuracy: 0.9668999910354614\n",
      "313/313 [==============================] - 0s 1ms/step - loss: 0.1049 - accuracy: 0.9676\n",
      "Model with Batch Normalization - Test Accuracy: 0.9675999879837036\n"
     ]
    }
   ],
   "source": [
    "# Evaluate the model without batch normalization\n",
    "_, accuracy = model.evaluate(x_test, y_test)\n",
    "print('Model without Batch Normalization - Test Accuracy:', accuracy)\n",
    "\n",
    "# Evaluate the model with batch normalization\n",
    "_, accuracy_bn = model_with_bn.evaluate(x_test, y_test)\n",
    "print('Model with Batch Normalization - Test Accuracy:', accuracy_bn)\n"
   ]
  },
  {
   "cell_type": "markdown",
   "id": "071e7b2f-59b8-411b-9ea9-66533997265f",
   "metadata": {},
   "source": [
    "### 5.Discuss the impact of batch normalization on the training process and the performance of the neural network"
   ]
  },
  {
   "cell_type": "code",
   "execution_count": null,
   "id": "c851afae-5715-43a9-948e-dcdb1513d76d",
   "metadata": {},
   "outputs": [],
   "source": [
    "persnally i don't see much difference in scores in this case most probably because it is a small, simple, case with only 3 epochs so \n",
    "there is no significant difference observed \n",
    "it's possible that for this particular scenario, the MNIST dataset and the chosen model architecture may not significantly benefit\n",
    "from batch normalization"
   ]
  },
  {
   "cell_type": "markdown",
   "id": "9882456b-8f15-465a-91e8-84bd01935093",
   "metadata": {},
   "source": [
    "# Experimentation and Analysis:\n",
    "\n"
   ]
  },
  {
   "cell_type": "markdown",
   "id": "00a18812-39b4-498f-a9d3-fe8af7ba84ba",
   "metadata": {},
   "source": [
    "### 1.Experiment with different batch sizes and observe the effect on the training dynamics and model performance:"
   ]
  },
  {
   "cell_type": "code",
   "execution_count": 13,
   "id": "4d7b45fa-1422-4c77-9c66-d03f019d9e00",
   "metadata": {},
   "outputs": [
    {
     "name": "stdout",
     "output_type": "stream",
     "text": [
      "Epoch 1/3\n",
      "1875/1875 [==============================] - 7s 3ms/step - loss: 0.3029 - accuracy: 0.9131 - val_loss: 0.1371 - val_accuracy: 0.9575\n",
      "Epoch 2/3\n",
      "1875/1875 [==============================] - 5s 3ms/step - loss: 0.1469 - accuracy: 0.9551 - val_loss: 0.1128 - val_accuracy: 0.9651\n",
      "Epoch 3/3\n",
      "1875/1875 [==============================] - 5s 3ms/step - loss: 0.1133 - accuracy: 0.9658 - val_loss: 0.0980 - val_accuracy: 0.9695\n",
      "Epoch 1/3\n",
      "1875/1875 [==============================] - 7s 3ms/step - loss: 0.3002 - accuracy: 0.9129 - val_loss: 0.1399 - val_accuracy: 0.9556\n",
      "Epoch 2/3\n",
      "1875/1875 [==============================] - 5s 3ms/step - loss: 0.1534 - accuracy: 0.9529 - val_loss: 0.1118 - val_accuracy: 0.9643\n",
      "Epoch 3/3\n",
      "1875/1875 [==============================] - 5s 3ms/step - loss: 0.1177 - accuracy: 0.9640 - val_loss: 0.1053 - val_accuracy: 0.9662\n",
      "Epoch 1/3\n",
      "1875/1875 [==============================] - 7s 3ms/step - loss: 0.3026 - accuracy: 0.9121 - val_loss: 0.1536 - val_accuracy: 0.9546\n",
      "Epoch 2/3\n",
      "1875/1875 [==============================] - 5s 3ms/step - loss: 0.1486 - accuracy: 0.9547 - val_loss: 0.1128 - val_accuracy: 0.9642\n",
      "Epoch 3/3\n",
      "1875/1875 [==============================] - 5s 3ms/step - loss: 0.1177 - accuracy: 0.9635 - val_loss: 0.1034 - val_accuracy: 0.9687\n"
     ]
    },
    {
     "data": {
      "image/png": "[encoded data removed]",
      "text/plain": [
       "<Figure size 640x480 with 1 Axes>"
      ]
     },
     "metadata": {},
     "output_type": "display_data"
    }
   ],
   "source": [
    "# Define a list of batch sizes to experiment with\n",
    "batch_sizes = [16, 32, 64]\n",
    "\n",
    "# Create lists to store the training and validation accuracy for each batch size\n",
    "train_acc_list_bn = []\n",
    "val_acc_list_bn = []\n",
    "\n",
    "# Iterate over different batch sizes\n",
    "for batch_size in batch_sizes:\n",
    "    # Define the model with batch normalization\n",
    "    model_with_bn = Sequential([\n",
    "        Dense(64, activation='relu', input_shape=(784,)),\n",
    "        BatchNormalization(batch_size=batch_size),  # Set the batch size for batch normalization\n",
    "        Dense(32, activation='relu'),\n",
    "        BatchNormalization(batch_size=batch_size),  # Set the batch size for batch normalization\n",
    "        Dense(10, activation='softmax')\n",
    "    ])\n",
    "    model_with_bn.compile(optimizer='adam',\n",
    "                          loss='sparse_categorical_crossentropy',\n",
    "                          metrics=['accuracy'])\n",
    "\n",
    "    # Train the model with the current batch size\n",
    "    history_bn = model_with_bn.fit(x_train, y_train, epochs=3, batch_size=32, validation_data=(x_test, y_test))\n",
    "    \n",
    "    # Append the training and validation accuracy to the lists\n",
    "    train_acc_list_bn.append(history_bn.history['accuracy'][-1])\n",
    "    val_acc_list_bn.append(history_bn.history['val_accuracy'][-1])\n",
    "\n",
    "# Plotting the results\n",
    "plt.plot(batch_sizes, train_acc_list_bn, label='Training Accuracy (with BatchNorm)')\n",
    "plt.plot(batch_sizes, val_acc_list_bn, label='Validation Accuracy (with BatchNorm)')\n",
    "plt.xlabel('Batch Size for BatchNorm')\n",
    "plt.ylabel('Accuracy')\n",
    "plt.title('Effect of Batch Size on Accuracy with BatchNorm')\n",
    "plt.legend()\n",
    "plt.show()\n"
   ]
  },
  {
   "cell_type": "code",
   "execution_count": null,
   "id": "4135b9ea-5fe8-4ed9-b414-61bada1be676",
   "metadata": {},
   "outputs": [],
   "source": []
  },
  {
   "cell_type": "code",
   "execution_count": null,
   "id": "1504b8b9-63be-478a-bb4b-8545e9c7c0c6",
   "metadata": {},
   "outputs": [],
   "source": [
    "# 2.Discuss the advantages and potential limitations of batch normalization "
   ]
  },
  {
   "cell_type": "code",
   "execution_count": null,
   "id": "45e69628-534d-4cf9-bbd7-adc2c9e518e6",
   "metadata": {},
   "outputs": [],
   "source": [
    "'''\n",
    "Advantages of batch normalization:\n",
    "a) Improved Training Speed: Batch normalization allows for faster convergence during training by reducing the internal covariate shift.\n",
    "It helps in stabilizing the gradients and allows the use of higher learning rates, leading to faster training.\n",
    "b) Better Generalization: Batch normalization acts as a regularizer by adding noise to the network during training. This helps in reducing\n",
    "overfitting and improving the generalization ability of the model.\n",
    "c) Robustness to Initialization: Batch normalization reduces the sensitivity of the network to the choice of initial weights. It mitigates\n",
    "the issue of vanishing or exploding gradients, making the network more robust to different weight initialization strategies.\n",
    "d) Reduced Dependency on Hyperparameters: Batch normalization reduces the dependence on hyperparameters like learning rate and weight \n",
    "initialization. This makes it easier to tune other hyperparameters and achieve better performance.\n",
    "\n",
    "Limitations of batch normalization:\n",
    "a) Batch Size Dependency: The effectiveness of batch normalization can vary with different batch sizes. Extremely small batch sizes may \n",
    "not provide sufficient statistics for accurate normalization, while very large batch sizes may result in less effective normalization. It is\n",
    "important to choose an appropriate batch size for optimal performance.\n",
    "b) Increased Memory Consumption: Batch normalization requires storing the mean and variance of each feature for each batch during training.\n",
    "This can increase the memory consumption, especially for large networks or when dealing with limited memory resources.\n",
    "c) Inference-Time Variability: During inference, batch normalization uses the estimated population statistics (mean and variance) rather \n",
    "than the batch statistics. This introduces some variability during inference, especially for small batch sizes, which may affect the \n",
    "model's performance.'''"
   ]
  }
 ],
 "metadata": {
  "kernelspec": {
   "display_name": "Python 3 (ipykernel)",
   "language": "python",
   "name": "python3"
  },
  "language_info": {
   "codemirror_mode": {
    "name": "ipython",
    "version": 3
   },
   "file_extension": ".py",
   "mimetype": "text/x-python",
   "name": "python",
   "nbconvert_exporter": "python",
   "pygments_lexer": "ipython3",
   "version": "3.10.8"
  }
 },
 "nbformat": 4,
 "nbformat_minor": 5
}
